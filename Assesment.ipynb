{
 "cells": [
  {
   "cell_type": "code",
   "execution_count": 1,
   "id": "4d0cd905",
   "metadata": {},
   "outputs": [],
   "source": [
    "# importing necessary libraries\n",
    "import mysql.connector\n",
    "import pandas as pd\n"
   ]
  },
  {
   "cell_type": "code",
   "execution_count": 11,
   "id": "f3ab6019",
   "metadata": {},
   "outputs": [],
   "source": [
    "# connecting mysql server\n",
    "database = mysql.connector.connect(host=\"localhost\",user=\"root\",passwd= \"root1\",database=\"project\")\n",
    "cursor = database.cursor()\n",
    "query2 = \"select*from patient1\""
   ]
  },
  {
   "cell_type": "code",
   "execution_count": 12,
   "id": "87ebe644",
   "metadata": {},
   "outputs": [],
   "source": [
    "cursor.execute(query2)"
   ]
  },
  {
   "cell_type": "code",
   "execution_count": 13,
   "id": "1d7fafaa",
   "metadata": {},
   "outputs": [],
   "source": [
    "table_rows = cursor.fetchall()"
   ]
  },
  {
   "cell_type": "code",
   "execution_count": 21,
   "id": "1b86d55c",
   "metadata": {},
   "outputs": [
    {
     "name": "stdout",
     "output_type": "stream",
     "text": [
      "   cust_ID     Nam   Open_date  Consult_dt VAC_ID Dr_Name State Country  \\\n",
      "0      123  Akshay  2021-09-01  2022-09-02    CSD   Kedar    MH     IND   \n",
      "1      345  Sushil  2021-08-05  2022-08-05    CSD   Kedar    MH     IND   \n",
      "2      456  Shital  2021-09-05  2022-10-05    CSD   kedar    MH     IND   \n",
      "3      567   Rakhi  2021-10-11  2022-10-11    CSD   kedar    MH     IND   \n",
      "4      678   Rakhi  2021-10-11  2022-10-11    CSD  Shital    MH     IND   \n",
      "5      789   kedar  2021-05-07  2022-05-07    CSD  Akshay    MH     IND   \n",
      "\n",
      "          DOB Active  \n",
      "0  1994-07-04      A  \n",
      "1  1995-08-04      A  \n",
      "2  1994-11-04      A  \n",
      "3  1996-07-04      A  \n",
      "4  1996-07-04      B  \n",
      "5  1993-02-01      B  \n"
     ]
    }
   ],
   "source": [
    "df = pd.read_sql('SELECT * FROM patient1', con=database) \n",
    "print(df)"
   ]
  },
  {
   "cell_type": "code",
   "execution_count": 22,
   "id": "1b6524a2",
   "metadata": {},
   "outputs": [
    {
     "name": "stdout",
     "output_type": "stream",
     "text": [
      "            Nam   Open_date  Consult_dt VAC_ID Dr_Name State Country  \\\n",
      "cust_ID                                                                \n",
      "123      Akshay  2021-09-01  2022-09-02    CSD   Kedar    MH     IND   \n",
      "345      Sushil  2021-08-05  2022-08-05    CSD   Kedar    MH     IND   \n",
      "456      Shital  2021-09-05  2022-10-05    CSD   kedar    MH     IND   \n",
      "567       Rakhi  2021-10-11  2022-10-11    CSD   kedar    MH     IND   \n",
      "678       Rakhi  2021-10-11  2022-10-11    CSD  Shital    MH     IND   \n",
      "789       kedar  2021-05-07  2022-05-07    CSD  Akshay    MH     IND   \n",
      "\n",
      "                DOB Active  \n",
      "cust_ID                     \n",
      "123      1994-07-04      A  \n",
      "345      1995-08-04      A  \n",
      "456      1994-11-04      A  \n",
      "567      1996-07-04      A  \n",
      "678      1996-07-04      B  \n",
      "789      1993-02-01      B  \n"
     ]
    }
   ],
   "source": [
    "df.set_index(['cust_ID'], inplace=True)  # setting default index\n",
    "print (df)"
   ]
  },
  {
   "cell_type": "code",
   "execution_count": 23,
   "id": "e557343a",
   "metadata": {},
   "outputs": [],
   "source": [
    "ans = df.loc[df['Country'] == \"IND\"]"
   ]
  },
  {
   "cell_type": "code",
   "execution_count": 24,
   "id": "28dec2c9",
   "metadata": {},
   "outputs": [],
   "source": [
    "def show_data(country):\n",
    "    data = df.loc[df['Country'] == country]\n",
    "    print(data)"
   ]
  },
  {
   "cell_type": "code",
   "execution_count": 25,
   "id": "58e22c50",
   "metadata": {},
   "outputs": [],
   "source": [
    "def get_file(country):\n",
    "    data = df.loc[df['Country'] == country]\n",
    "    file_name = str(country)\n",
    "    data.to_csv('C:/Users/net comm15/Downloads/' + country + \".csv\")  # replace path with your desired path\n",
    "    print(\"File has been created to the specified path\")\n"
   ]
  },
  {
   "cell_type": "code",
   "execution_count": 27,
   "id": "67ba8c21",
   "metadata": {},
   "outputs": [
    {
     "name": "stdout",
     "output_type": "stream",
     "text": [
      "            Nam   Open_date  Consult_dt VAC_ID Dr_Name State Country  \\\n",
      "cust_ID                                                                \n",
      "123      Akshay  2021-09-01  2022-09-02    CSD   Kedar    MH     IND   \n",
      "345      Sushil  2021-08-05  2022-08-05    CSD   Kedar    MH     IND   \n",
      "456      Shital  2021-09-05  2022-10-05    CSD   kedar    MH     IND   \n",
      "567       Rakhi  2021-10-11  2022-10-11    CSD   kedar    MH     IND   \n",
      "678       Rakhi  2021-10-11  2022-10-11    CSD  Shital    MH     IND   \n",
      "789       kedar  2021-05-07  2022-05-07    CSD  Akshay    MH     IND   \n",
      "\n",
      "                DOB Active  \n",
      "cust_ID                     \n",
      "123      1994-07-04      A  \n",
      "345      1995-08-04      A  \n",
      "456      1994-11-04      A  \n",
      "567      1996-07-04      A  \n",
      "678      1996-07-04      B  \n",
      "789      1993-02-01      B  \n",
      "File has been created to the specified path\n"
     ]
    }
   ],
   "source": [
    "# calling functions\n",
    "\n",
    "show_data(\"IND\")\n",
    "get_file(\"IND\")"
   ]
  },
  {
   "cell_type": "code",
   "execution_count": null,
   "id": "cdbe2162",
   "metadata": {},
   "outputs": [],
   "source": []
  }
 ],
 "metadata": {
  "kernelspec": {
   "display_name": "Python 3",
   "language": "python",
   "name": "python3"
  },
  "language_info": {
   "codemirror_mode": {
    "name": "ipython",
    "version": 3
   },
   "file_extension": ".py",
   "mimetype": "text/x-python",
   "name": "python",
   "nbconvert_exporter": "python",
   "pygments_lexer": "ipython3",
   "version": "3.8.11"
  }
 },
 "nbformat": 4,
 "nbformat_minor": 5
}
